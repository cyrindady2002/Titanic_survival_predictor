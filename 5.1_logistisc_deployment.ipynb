{
 "cells": [
  {
   "cell_type": "code",
   "execution_count": 1,
   "id": "bc66ec65-67be-47fe-aa74-c46a73fbf413",
   "metadata": {},
   "outputs": [],
   "source": [
    "import streamlit as st\n",
    "import pickle\n",
    "import pandas as pd\n",
    "import warnings\n",
    "warnings.filterwarnings('ignore')"
   ]
  },
  {
   "cell_type": "code",
   "execution_count": 2,
   "id": "ff899bc5-f5dd-47ba-b8d0-27e943ec3526",
   "metadata": {},
   "outputs": [],
   "source": [
    "model= pickle.load(open('logm_pkl','rb'))"
   ]
  },
  {
   "cell_type": "code",
   "execution_count": 3,
   "id": "ac62e10b-b57f-47f7-a288-bff5666be545",
   "metadata": {},
   "outputs": [
    {
     "name": "stderr",
     "output_type": "stream",
     "text": [
      "2024-10-18 19:48:26.769 \n",
      "  \u001b[33m\u001b[1mWarning:\u001b[0m to view this Streamlit app on a browser, run it with the following\n",
      "  command:\n",
      "\n",
      "    streamlit run C:\\Anaconda3\\Lib\\site-packages\\ipykernel_launcher.py [ARGUMENTS]\n"
     ]
    },
    {
     "data": {
      "text/plain": [
       "DeltaGenerator()"
      ]
     },
     "execution_count": 3,
     "metadata": {},
     "output_type": "execute_result"
    }
   ],
   "source": [
    "st.title('Model Deployment using Logistic Regression')"
   ]
  },
  {
   "cell_type": "code",
   "execution_count": 4,
   "id": "18779367-4621-4947-ac86-c6697e9f3cb9",
   "metadata": {},
   "outputs": [],
   "source": [
    "import streamlit as st\n",
    "import pandas as pd\n",
    "\n",
    "st.title(\"Prediction on Test Data\")\n",
    "\n",
    "# Upload CSV file containing df_test\n",
    "uploaded_file = st.file_uploader(\"Upload your CSV file containing the test data\", type=[\"csv\"])\n",
    "\n",
    "if uploaded_file is not None:\n",
    "    # Load the uploaded CSV file\n",
    "    df_test = pd.read_csv(uploaded_file)\n",
    "    \n",
    "    # Define the required features\n",
    "    required_features = ['Pclass', 'Age', 'SibSp', 'Parch', 'Female', 'Male', 'Embarked_C', 'Embarked_S', 'Embarked_Q']\n",
    "    \n",
    "    # Check if df_test contains all the required features\n",
    "    if all(feature in df_test.columns for feature in required_features):\n",
    "        df = df_test[required_features]  # Keep only the necessary features\n",
    "        \n",
    "        st.subheader('Test Data')\n",
    "        st.write(df)\n",
    "\n",
    "        # Assuming 'model' is already defined and trained\n",
    "        pred_prob = model.predict_proba(df)\n",
    "        pred = model.predict(df)\n",
    "\n",
    "        # Display the predicted class\n",
    "        st.subheader('Predicted')\n",
    "        st.write('Yes' if pred_prob[0][1] > 0.5 else 'No')\n",
    "\n",
    "        # Display the prediction probabilities\n",
    "        st.subheader('Prediction Probabilities')\n",
    "        st.write(pred_prob)\n",
    "        \n",
    "    else:\n",
    "        st.error(\"The uploaded file does not contain the required features.\")\n",
    "else:\n",
    "    st.info(\"Please upload a CSV file to proceed.\")"
   ]
  },
  {
   "cell_type": "code",
   "execution_count": null,
   "id": "86976c06-ef93-4953-ada7-c614a6343827",
   "metadata": {},
   "outputs": [],
   "source": []
  }
 ],
 "metadata": {
  "kernelspec": {
   "display_name": "Python 3 (ipykernel)",
   "language": "python",
   "name": "python3"
  },
  "language_info": {
   "codemirror_mode": {
    "name": "ipython",
    "version": 3
   },
   "file_extension": ".py",
   "mimetype": "text/x-python",
   "name": "python",
   "nbconvert_exporter": "python",
   "pygments_lexer": "ipython3",
   "version": "3.11.7"
  }
 },
 "nbformat": 4,
 "nbformat_minor": 5
}
